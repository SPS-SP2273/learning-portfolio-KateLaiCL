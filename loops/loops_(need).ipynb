{
 "cells": [
  {
   "attachments": {},
   "cell_type": "markdown",
   "id": "123456",
   "metadata": {},
   "source": [
    "<div style=\"text-align:left;font-size:2em\"><span style=\"font-weight:bolder;font-size:1.25em\">SP2273 | Learning Portfolio</span><br><br><span style=\"font-weight:bold;color:darkred\">Loops (Need)</span></div>"
   ]
  },
  {
   "attachments": {},
   "cell_type": "markdown",
   "id": "aefec495",
   "metadata": {},
   "source": [
    "# What to expect in this chapter"
   ]
  },
  {
   "attachments": {},
   "cell_type": "markdown",
   "id": "fd4443c5",
   "metadata": {},
   "source": [
    "# 1 The for iterator"
   ]
  },
  {
   "attachments": {},
   "cell_type": "markdown",
   "id": "655e02cb",
   "metadata": {},
   "source": [
    "## 1.1 for with a list"
   ]
  },
  {
   "cell_type": "code",
   "execution_count": 2,
   "id": "def21fb0-3bcf-4200-a728-34cf81654a49",
   "metadata": {},
   "outputs": [
    {
     "name": "stdout",
     "output_type": "stream",
     "text": [
      "Natasha Romanoff is a Marvel superhero!\n",
      "Tony Stark is a Marvel superhero!\n",
      "Stephen Strange is a Marvel superhero!\n"
     ]
    }
   ],
   "source": [
    "real_names = [\"Natasha Romanoff\", \"Tony Stark\", \"Stephen Strange\"]\n",
    "for name in real_names:\n",
    "    print(f\"{name} is a Marvel superhero!\")"
   ]
  },
  {
   "attachments": {},
   "cell_type": "markdown",
   "id": "63f6e5fd",
   "metadata": {},
   "source": [
    "## 1.2 for with enumerate"
   ]
  },
  {
   "cell_type": "code",
   "execution_count": 5,
   "id": "573f4eb4-4be1-40be-be68-a6152ffbabac",
   "metadata": {},
   "outputs": [
    {
     "name": "stdout",
     "output_type": "stream",
     "text": [
      "0: Natasha Romanoff is a Marvel superhero!\n",
      "1: Tony Stark is a Marvel superhero!\n",
      "2: Stephen Strange is a Marvel superhero!\n"
     ]
    }
   ],
   "source": [
    "super_names = [\"Black Widow\", \"Iron Man\", \"Doctor Strange\"]\n",
    "real_names = [\"Natasha Romanoff\", \"Tony Stark\", \"Stephen Strange\"]\n",
    "for count, name in enumerate(real_names):\n",
    "    print(f'{count}: {name} is a Marvel superhero!')"
   ]
  },
  {
   "cell_type": "code",
   "execution_count": 6,
   "id": "b5e5121d-d3a2-4045-be27-7a3d9830a65e",
   "metadata": {},
   "outputs": [
    {
     "name": "stdout",
     "output_type": "stream",
     "text": [
      "Natasha Romanoff is Black Widow!\n",
      "Tony Stark is Iron Man!\n",
      "Stephen Strange is Doctor Strange!\n"
     ]
    }
   ],
   "source": [
    "super_names = [\"Black Widow\", \"Iron Man\", \"Doctor Strange\"]\n",
    "real_names = [\"Natasha Romanoff\", \"Tony Stark\", \"Stephen Strange\"]\n",
    "for index, name in enumerate(real_names):\n",
    "    superhero_name = super_names[index]\n",
    "    print(f'{name} is {superhero_name}!')"
   ]
  },
  {
   "cell_type": "code",
   "execution_count": 7,
   "id": "29ccfe99-2e7b-437a-99f6-92f252c061dc",
   "metadata": {},
   "outputs": [
    {
     "name": "stdout",
     "output_type": "stream",
     "text": [
      "100: Natasha Romanoff is a Marvel superhero!\n",
      "101: Tony Stark is a Marvel superhero!\n",
      "102: Stephen Strange is a Marvel superhero!\n"
     ]
    }
   ],
   "source": [
    "for count, name in enumerate(real_names, 100):\n",
    "    print(f'{count}: {name} is a Marvel superhero!')"
   ]
  },
  {
   "attachments": {},
   "cell_type": "markdown",
   "id": "42f88e40",
   "metadata": {},
   "source": [
    "## 1.3 for with range"
   ]
  },
  {
   "cell_type": "code",
   "execution_count": 8,
   "id": "7d63c7d1-6fb6-4bbe-9a46-206fa609a424",
   "metadata": {},
   "outputs": [
    {
     "name": "stdout",
     "output_type": "stream",
     "text": [
      "0\n",
      "1\n",
      "2\n",
      "3\n",
      "4\n"
     ]
    }
   ],
   "source": [
    "for i in range(5):\n",
    "    print(i)"
   ]
  },
  {
   "cell_type": "code",
   "execution_count": 9,
   "id": "d071e716-265e-476e-9858-e776ec7ace12",
   "metadata": {},
   "outputs": [
    {
     "name": "stdout",
     "output_type": "stream",
     "text": [
      "5\n",
      "6\n",
      "7\n",
      "8\n",
      "9\n"
     ]
    }
   ],
   "source": [
    "for i in range(5, 10):\n",
    "    print(i)"
   ]
  },
  {
   "cell_type": "code",
   "execution_count": 10,
   "id": "d92ba97f-65ac-4efe-90cc-c1c4d4c8c069",
   "metadata": {},
   "outputs": [
    {
     "name": "stdout",
     "output_type": "stream",
     "text": [
      "1\n",
      "4\n",
      "7\n"
     ]
    }
   ],
   "source": [
    "for i in range(1, 10, 3):\n",
    "    print(i) #adjust step size e.g. every 3"
   ]
  },
  {
   "cell_type": "code",
   "execution_count": 11,
   "id": "ff565fa5-5cc6-47fd-8e5a-b70ac4a9c564",
   "metadata": {},
   "outputs": [
    {
     "name": "stdout",
     "output_type": "stream",
     "text": [
      "Natasha Romanoff is Marvel's Black Widow!\n",
      "Tony Stark is Marvel's Iron Man!\n",
      "Stephen Strange is Marvel's Doctor Strange!\n"
     ]
    }
   ],
   "source": [
    "for i in range(len(real_names)):\n",
    "    real_name = real_names[i]\n",
    "    super_name = super_names[i]        \n",
    "    print(f\"{real_name} is Marvel's {super_name}!\")"
   ]
  },
  {
   "attachments": {},
   "cell_type": "markdown",
   "id": "4ec81c56",
   "metadata": {},
   "source": [
    "# 2 while"
   ]
  },
  {
   "cell_type": "code",
   "execution_count": 12,
   "id": "ce731838-fac0-4529-85c1-dbc4bbd25c0a",
   "metadata": {},
   "outputs": [
    {
     "name": "stdout",
     "output_type": "stream",
     "text": [
      "0\n",
      "1\n",
      "2\n",
      "3\n",
      "4\n"
     ]
    }
   ],
   "source": [
    "number = 0\n",
    "\n",
    "while number < 5:\n",
    "    print(number)\n",
    "    number += 1"
   ]
  }
 ],
 "metadata": {
  "kernelspec": {
   "display_name": "Python 3 (ipykernel)",
   "language": "python",
   "name": "python3"
  },
  "language_info": {
   "codemirror_mode": {
    "name": "ipython",
    "version": 3
   },
   "file_extension": ".py",
   "mimetype": "text/x-python",
   "name": "python",
   "nbconvert_exporter": "python",
   "pygments_lexer": "ipython3",
   "version": "3.11.7"
  },
  "toc": {
   "base_numbering": 1,
   "nav_menu": {},
   "number_sections": true,
   "sideBar": true,
   "skip_h1_title": false,
   "title_cell": "Table of Contents",
   "title_sidebar": "Contents",
   "toc_cell": false,
   "toc_position": {},
   "toc_section_display": true,
   "toc_window_display": false
  },
  "vscode": {
   "interpreter": {
    "hash": "31f2aee4e71d21fbe5cf8b01ff0e069b9275f58929596ceb00d14d90e3e16cd6"
   }
  }
 },
 "nbformat": 4,
 "nbformat_minor": 5
}
