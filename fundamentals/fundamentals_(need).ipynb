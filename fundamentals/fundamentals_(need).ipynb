{
 "cells": [
  {
   "attachments": {},
   "cell_type": "markdown",
   "id": "123456",
   "metadata": {},
   "source": [
    "<div style=\"text-align:left;font-size:2em\"><span style=\"font-weight:bolder;font-size:1.25em\">SP2273 | Learning Portfolio</span><br><br><span style=\"font-weight:bold;color:darkred\">Fundamentals (Need)</span></div>"
   ]
  },
  {
   "attachments": {},
   "cell_type": "markdown",
   "id": "c54f52b6",
   "metadata": {},
   "source": [
    "# What to expect in this chapter"
   ]
  },
  {
   "attachments": {},
   "cell_type": "markdown",
   "id": "2d682dc3",
   "metadata": {},
   "source": [
    "# 1 Functions"
   ]
  },
  {
   "cell_type": "code",
   "execution_count": 1,
   "id": "2d883a18-f3f1-4c93-8d4c-401b002aa325",
   "metadata": {},
   "outputs": [
    {
     "name": "stdout",
     "output_type": "stream",
     "text": [
      "Hello World\n"
     ]
    }
   ],
   "source": [
    "print ('Hello World')"
   ]
  },
  {
   "attachments": {},
   "cell_type": "markdown",
   "id": "2c985ee3",
   "metadata": {},
   "source": [
    "# 2 Remember"
   ]
  },
  {
   "cell_type": "markdown",
   "id": "95f2986a-ddef-41fb-a20d-8589591f6c5e",
   "metadata": {},
   "source": [
    "- A function is ‘something’ that executes a specific task.\n",
    "- A function may or may not accept arguments.\n",
    "- We can define our own functions."
   ]
  },
  {
   "attachments": {},
   "cell_type": "markdown",
   "id": "7de3b272",
   "metadata": {},
   "source": [
    "# 3 Python is interpreted"
   ]
  },
  {
   "cell_type": "code",
   "execution_count": 2,
   "id": "d13f1417-898b-48ac-8243-254024518b75",
   "metadata": {},
   "outputs": [
    {
     "name": "stdout",
     "output_type": "stream",
     "text": [
      "Hello World\n",
      "Hello World again\n"
     ]
    }
   ],
   "source": [
    "print('Hello World')\n",
    "print('Hello World again')"
   ]
  },
  {
   "attachments": {},
   "cell_type": "markdown",
   "id": "80e6168f",
   "metadata": {},
   "source": [
    "# 4 Python is sensitive."
   ]
  },
  {
   "attachments": {},
   "cell_type": "markdown",
   "id": "fe7e1529",
   "metadata": {},
   "source": [
    "# 5 Remember"
   ]
  },
  {
   "cell_type": "markdown",
   "id": "f3066f69-7456-4da5-a034-4e3bbd52c746",
   "metadata": {},
   "source": [
    "python is case sensitive"
   ]
  },
  {
   "attachments": {},
   "cell_type": "markdown",
   "id": "6de11b31",
   "metadata": {},
   "source": [
    "# 6 Comments"
   ]
  },
  {
   "cell_type": "code",
   "execution_count": 6,
   "id": "ce5b21b3-6415-4037-8646-96bf39400e8d",
   "metadata": {},
   "outputs": [
    {
     "name": "stdout",
     "output_type": "stream",
     "text": [
      "Hello World\n"
     ]
    }
   ],
   "source": [
    "print('Hello World')      # This WILL work"
   ]
  },
  {
   "cell_type": "code",
   "execution_count": 7,
   "id": "77761860-d88f-4d01-b111-04ccff543f65",
   "metadata": {},
   "outputs": [
    {
     "name": "stdout",
     "output_type": "stream",
     "text": [
      "Three\n"
     ]
    }
   ],
   "source": [
    "print('Three')            # This is\n",
    "                          # also a way to\n",
    "                          # write comments"
   ]
  },
  {
   "attachments": {},
   "cell_type": "markdown",
   "id": "ef4f93bb",
   "metadata": {},
   "source": [
    "# 7 Remember"
   ]
  },
  {
   "cell_type": "markdown",
   "id": "3129ff00-69a2-44fd-92b7-89a3ba00f5ba",
   "metadata": {},
   "source": [
    "Use comments to emphasize the purpose of the code. Don't anyhow put."
   ]
  },
  {
   "attachments": {},
   "cell_type": "markdown",
   "id": "3b030065",
   "metadata": {},
   "source": [
    "# 8 = is not the same as =="
   ]
  },
  {
   "cell_type": "code",
   "execution_count": 12,
   "id": "d9ee0edb-22cb-458e-8616-fd7834f0beac",
   "metadata": {},
   "outputs": [],
   "source": [
    "name = 'Batman'   # Make name carry 'Batman'"
   ]
  },
  {
   "cell_type": "code",
   "execution_count": 13,
   "id": "b6d99421-c45c-4697-8fd5-761a600dca9b",
   "metadata": {},
   "outputs": [
    {
     "data": {
      "text/plain": [
       "True"
      ]
     },
     "execution_count": 13,
     "metadata": {},
     "output_type": "execute_result"
    }
   ],
   "source": [
    "name == 'Batman'  # Tell me if name is equal to 'Batman'?\n",
    "                  # Answer:  True or False"
   ]
  },
  {
   "attachments": {},
   "cell_type": "markdown",
   "id": "329a961e",
   "metadata": {},
   "source": [
    "# 9 Remember"
   ]
  },
  {
   "cell_type": "markdown",
   "id": "dc57d7a1-d763-41db-a65e-bf88f2fea227",
   "metadata": {},
   "source": [
    "- = is not the same as ==.\n",
    "- = assigns a value and\n",
    "- == asks a question."
   ]
  },
  {
   "attachments": {},
   "cell_type": "markdown",
   "id": "541ee609",
   "metadata": {},
   "source": [
    "# 10 Use if to make decisions"
   ]
  },
  {
   "cell_type": "code",
   "execution_count": 14,
   "id": "ed699a3a-2793-48f8-bc22-a6fce4b917aa",
   "metadata": {},
   "outputs": [
    {
     "name": "stdout",
     "output_type": "stream",
     "text": [
      "Hello Batman!\n"
     ]
    }
   ],
   "source": [
    "name = 'Batman'\n",
    "\n",
    "if name == 'Batman':\n",
    "    print('Hello Batman!')\n",
    "else:\n",
    "    print('Hello World!')"
   ]
  },
  {
   "cell_type": "code",
   "execution_count": 15,
   "id": "3c516836-a543-4620-9c15-b9812f210964",
   "metadata": {},
   "outputs": [
    {
     "name": "stdout",
     "output_type": "stream",
     "text": [
      "Hello World!\n"
     ]
    }
   ],
   "source": [
    "name = 'not Batman'\n",
    "\n",
    "if name == 'Batman':\n",
    "    print('Hello Batman!')\n",
    "else:\n",
    "    print('Hello World!')"
   ]
  },
  {
   "attachments": {},
   "cell_type": "markdown",
   "id": "d0e9fd67",
   "metadata": {},
   "source": [
    "# 11 Remember"
   ]
  },
  {
   "cell_type": "markdown",
   "id": "0b5f5541-ab99-4625-95dd-b06265a48715",
   "metadata": {},
   "source": [
    "You can use if to make decisions."
   ]
  },
  {
   "attachments": {},
   "cell_type": "markdown",
   "id": "bb9c0843",
   "metadata": {},
   "source": [
    "# 12 Indentations (spaces) are sooo IMPORTANT!"
   ]
  },
  {
   "cell_type": "code",
   "execution_count": 16,
   "id": "9f918829-a506-4914-95b0-b5a82e4d6b8c",
   "metadata": {},
   "outputs": [
    {
     "name": "stdout",
     "output_type": "stream",
     "text": [
      "10\n"
     ]
    }
   ],
   "source": [
    "x = 10\n",
    "print(x)"
   ]
  },
  {
   "attachments": {},
   "cell_type": "markdown",
   "id": "d8a7c150",
   "metadata": {},
   "source": [
    "# 13 Remember"
   ]
  },
  {
   "cell_type": "markdown",
   "id": "4e6b581e-041a-4255-bbb2-cc40a3cd8ca3",
   "metadata": {},
   "source": [
    "- Indentations play a crucial role in Python; do not use them indiscriminately.\n",
    "- : is used to designate a block of code."
   ]
  },
  {
   "attachments": {},
   "cell_type": "markdown",
   "id": "a1cb8050",
   "metadata": {},
   "source": [
    "# 14 ‘age’ is English, age is a variable."
   ]
  },
  {
   "cell_type": "code",
   "execution_count": 18,
   "id": "a0f9dcbe-d984-4dde-b45b-24ed7ca133bf",
   "metadata": {},
   "outputs": [
    {
     "name": "stdout",
     "output_type": "stream",
     "text": [
      "10\n"
     ]
    }
   ],
   "source": [
    "age = 10\n",
    "print(age)       # Print the value of the variable age"
   ]
  },
  {
   "cell_type": "code",
   "execution_count": 19,
   "id": "682d043d-60b1-4a23-a65e-7fce86e58a4f",
   "metadata": {},
   "outputs": [
    {
     "name": "stdout",
     "output_type": "stream",
     "text": [
      "age\n"
     ]
    }
   ],
   "source": [
    "print('age') # Print the English word 'age'"
   ]
  },
  {
   "attachments": {},
   "cell_type": "markdown",
   "id": "a4e58cf0",
   "metadata": {},
   "source": [
    "# 15 Brackets"
   ]
  },
  {
   "cell_type": "code",
   "execution_count": 20,
   "id": "15e0a4b4-ae3e-4e19-9caf-0bc2dc4ff0e4",
   "metadata": {},
   "outputs": [
    {
     "name": "stdout",
     "output_type": "stream",
     "text": [
      "Hello!\n"
     ]
    }
   ],
   "source": [
    "print('Hello!')             # In functions"
   ]
  },
  {
   "cell_type": "code",
   "execution_count": 21,
   "id": "7595cdc2-6f58-4c17-a5a1-af9d0f009cbb",
   "metadata": {},
   "outputs": [
    {
     "data": {
      "text/plain": [
       "15"
      ]
     },
     "execution_count": 21,
     "metadata": {},
     "output_type": "execute_result"
    }
   ],
   "source": [
    "(1 + 2) * 5                 # For math"
   ]
  },
  {
   "cell_type": "code",
   "execution_count": 22,
   "id": "21d4cf37-34b9-4b44-911e-444cc84fb3eb",
   "metadata": {},
   "outputs": [],
   "source": [
    "py_list = [1, 2, 3, 4, 5]   # A 1D list"
   ]
  },
  {
   "cell_type": "code",
   "execution_count": 23,
   "id": "c628ec9c-b812-43e1-8375-7be5463068eb",
   "metadata": {},
   "outputs": [],
   "source": [
    "py_list_2 = [               # A 2D list\n",
    "                [1, \"A\"],      \n",
    "                [2, \"B\"],\n",
    "                [3, \"C\"],\n",
    "                [4, \"D\"],\n",
    "                [5, \"E\"]\n",
    "            ]"
   ]
  },
  {
   "cell_type": "code",
   "execution_count": 24,
   "id": "7bc47e7b-18da-4c51-990c-fad7cd3c7438",
   "metadata": {},
   "outputs": [],
   "source": [
    "personal_info = {\n",
    "    'Names': 'Batman',\n",
    "    'Real Name': 'Bruce Wayne',\n",
    "    'Age': 55,\n",
    "    'Affiliation': 'Justice League',\n",
    "    'Universe': 'DC'\n",
    "}"
   ]
  },
  {
   "cell_type": "code",
   "execution_count": 25,
   "id": "23439af7-4251-4269-a42e-c54fa27016f1",
   "metadata": {},
   "outputs": [
    {
     "name": "stdout",
     "output_type": "stream",
     "text": [
      "Bruce Wayne\n"
     ]
    }
   ],
   "source": [
    "print(personal_info['Real Name'])    "
   ]
  },
  {
   "cell_type": "code",
   "execution_count": 26,
   "id": "1c4a42fa-3820-4017-9d06-be22a2029625",
   "metadata": {},
   "outputs": [
    {
     "name": "stdout",
     "output_type": "stream",
     "text": [
      "55\n"
     ]
    }
   ],
   "source": [
    "print(personal_info['Age'])    "
   ]
  },
  {
   "attachments": {},
   "cell_type": "markdown",
   "id": "56a6da65",
   "metadata": {},
   "source": [
    "# 16 Giving Python superpowers with Packages"
   ]
  },
  {
   "attachments": {},
   "cell_type": "markdown",
   "id": "3c259230",
   "metadata": {},
   "source": [
    "## 16.1 Some Context"
   ]
  },
  {
   "cell_type": "code",
   "execution_count": 27,
   "id": "0585625c-2591-45f8-8282-e5f101029b22",
   "metadata": {},
   "outputs": [
    {
     "data": {
      "text/plain": [
       "40.5"
      ]
     },
     "execution_count": 27,
     "metadata": {},
     "output_type": "execute_result"
    }
   ],
   "source": [
    "1 * ((2 - 3) + 4) ** 5 / 6"
   ]
  },
  {
   "attachments": {},
   "cell_type": "markdown",
   "id": "9d0e23d0",
   "metadata": {},
   "source": [
    "## 16.2 Importing the math package"
   ]
  },
  {
   "cell_type": "code",
   "execution_count": 28,
   "id": "cf3ee2b0-c470-4c09-86ed-70df9a6adc9e",
   "metadata": {},
   "outputs": [],
   "source": [
    "import math         # Adding(importing) the functions\n",
    "                    # of the 'math' package    "
   ]
  },
  {
   "cell_type": "code",
   "execution_count": 29,
   "id": "00a34e86-8732-4923-adfe-12817e959a41",
   "metadata": {},
   "outputs": [
    {
     "data": {
      "text/plain": [
       "2.0"
      ]
     },
     "execution_count": 29,
     "metadata": {},
     "output_type": "execute_result"
    }
   ],
   "source": [
    "math.sqrt(4)"
   ]
  },
  {
   "attachments": {},
   "cell_type": "markdown",
   "id": "abf0d0d9",
   "metadata": {},
   "source": [
    "## 16.3 Importing the numpy package"
   ]
  },
  {
   "cell_type": "code",
   "execution_count": 30,
   "id": "3070a167-8d53-41d9-b01b-efa2bac103df",
   "metadata": {},
   "outputs": [],
   "source": [
    "import numpy as np    # Importing Numpy and giving \n",
    "                      # it an alias np \n",
    "                      # because I am lazy"
   ]
  },
  {
   "cell_type": "code",
   "execution_count": 31,
   "id": "a6cd23ca-d7d3-413e-84ce-70acfa9182a3",
   "metadata": {},
   "outputs": [
    {
     "data": {
      "text/plain": [
       "2.0"
      ]
     },
     "execution_count": 31,
     "metadata": {},
     "output_type": "execute_result"
    }
   ],
   "source": [
    "np.sqrt(4)"
   ]
  },
  {
   "attachments": {},
   "cell_type": "markdown",
   "id": "63c4e102",
   "metadata": {},
   "source": [
    "## 16.4 Why so many packages?"
   ]
  },
  {
   "cell_type": "code",
   "execution_count": 32,
   "id": "9f45b7af-845a-4b48-839a-f955ec56ae8d",
   "metadata": {},
   "outputs": [
    {
     "data": {
      "text/plain": [
       "array([2., 3., 4.])"
      ]
     },
     "execution_count": 32,
     "metadata": {},
     "output_type": "execute_result"
    }
   ],
   "source": [
    "np.sqrt([4, 9, 16])"
   ]
  },
  {
   "attachments": {},
   "cell_type": "markdown",
   "id": "06b4bee9",
   "metadata": {},
   "source": [
    "# 17 Remember"
   ]
  },
  {
   "cell_type": "markdown",
   "id": "49237360-176b-46ae-976b-892cefa1c5d9",
   "metadata": {},
   "source": [
    "- You can give Python ‘superpowers’ by importing packages.\n",
    "- You must import a package only once.\n",
    "- There are different ways to import packages (e.g. with or without an ‘alias’)."
   ]
  },
  {
   "attachments": {},
   "cell_type": "markdown",
   "id": "e6120eeb",
   "metadata": {},
   "source": [
    "# 18 The dot (.)"
   ]
  },
  {
   "cell_type": "code",
   "execution_count": 33,
   "id": "548e38af-8679-4d37-95be-fed32e621643",
   "metadata": {},
   "outputs": [
    {
     "data": {
      "text/plain": [
       "['I', 'am', 'Batman']"
      ]
     },
     "execution_count": 33,
     "metadata": {},
     "output_type": "execute_result"
    }
   ],
   "source": [
    "\"I am Batman\".split()"
   ]
  },
  {
   "attachments": {},
   "cell_type": "markdown",
   "id": "7a83cbdb",
   "metadata": {},
   "source": [
    "# 19 Remember"
   ]
  },
  {
   "cell_type": "markdown",
   "id": "2383ff36-47a6-44fb-b6eb-3c5464fd34c7",
   "metadata": {},
   "source": [
    "The dot(.) indicates ownership, and what it can access depends on the context."
   ]
  },
  {
   "attachments": {},
   "cell_type": "markdown",
   "id": "ea93b3ba",
   "metadata": {},
   "source": [
    "## Footnotes"
   ]
  }
 ],
 "metadata": {
  "kernelspec": {
   "display_name": "Python 3 (ipykernel)",
   "language": "python",
   "name": "python3"
  },
  "language_info": {
   "codemirror_mode": {
    "name": "ipython",
    "version": 3
   },
   "file_extension": ".py",
   "mimetype": "text/x-python",
   "name": "python",
   "nbconvert_exporter": "python",
   "pygments_lexer": "ipython3",
   "version": "3.11.7"
  },
  "toc": {
   "base_numbering": 1,
   "nav_menu": {},
   "number_sections": true,
   "sideBar": true,
   "skip_h1_title": false,
   "title_cell": "Table of Contents",
   "title_sidebar": "Contents",
   "toc_cell": false,
   "toc_position": {},
   "toc_section_display": true,
   "toc_window_display": false
  },
  "vscode": {
   "interpreter": {
    "hash": "31f2aee4e71d21fbe5cf8b01ff0e069b9275f58929596ceb00d14d90e3e16cd6"
   }
  }
 },
 "nbformat": 4,
 "nbformat_minor": 5
}
