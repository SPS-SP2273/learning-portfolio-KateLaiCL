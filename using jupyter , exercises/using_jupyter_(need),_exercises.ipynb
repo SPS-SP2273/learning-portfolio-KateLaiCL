{
 "cells": [
  {
   "attachments": {},
   "cell_type": "markdown",
   "id": "123456",
   "metadata": {},
   "source": [
    "<div style=\"text-align:left;font-size:2em\"><span style=\"font-weight:bolder;font-size:1.25em\">SP2273 | Learning Portfolio</span><br><br><span style=\"font-weight:bold;color:darkred\">Using Jupyter (Need), Exercises</span></div>"
   ]
  },
  {
   "attachments": {},
   "cell_type": "markdown",
   "id": "d7dff632",
   "metadata": {},
   "source": [
    "## Quadratic Equations"
   ]
  },
  {
   "attachments": {},
   "cell_type": "markdown",
   "id": "400fbb62",
   "metadata": {},
   "source": [
    "### Introduction"
   ]
  },
  {
   "attachments": {},
   "cell_type": "markdown",
   "id": "318539aa-2d81-4fa8-b511-b7679dde13d1",
   "metadata": {},
   "source": [
    "![](https://upload.wikimedia.org/wikipedia/commons/f/f8/Polynomialdeg2.svg)\n"
   ]
  },
  {
   "cell_type": "markdown",
   "id": "01cd4a8d-e6c2-4f99-aa57-cfdcb2c22934",
   "metadata": {},
   "source": [
    "*Image from the [Wikipedia page on Quadratic equations](https://en.wikipedia.org/wiki/Quadratic_equation)*"
   ]
  },
  {
   "cell_type": "markdown",
   "id": "e319b65f-843e-4b6e-9c94-e00524bf8d83",
   "metadata": {},
   "source": [
    "The general form of a quadratic equation is:"
   ]
  },
  {
   "cell_type": "markdown",
   "id": "76c810ec-0787-4503-85f0-0c860725f2c9",
   "metadata": {},
   "source": [
    "$ax^2 + bx + c = 0$"
   ]
  },
  {
   "attachments": {},
   "cell_type": "markdown",
   "id": "54075eca",
   "metadata": {},
   "source": [
    "### Solutions"
   ]
  },
  {
   "cell_type": "markdown",
   "id": "1d20d557-748c-4e13-a055-ccf7ed7ca8b7",
   "metadata": {},
   "source": [
    "Provided \n",
    "$a\\ne0$\n",
    ", we can use an elementary algebraic method called [completeing the square](https://en.wikipedia.org/wiki/Completing_the_square) to show that a quadratic equation has the following solution:\n",
    "\n"
   ]
  },
  {
   "cell_type": "markdown",
   "id": "142415d0-f72c-4630-919d-e1fffe698c8c",
   "metadata": {},
   "source": [
    "$$\n",
    "x = \\dfrac{-b\\pm\\sqrt{b^2-4ac}}{2a}\n",
    "$$"
   ]
  },
  {
   "attachments": {},
   "cell_type": "markdown",
   "id": "56e4c053",
   "metadata": {},
   "source": [
    "### Discriminant"
   ]
  },
  {
   "cell_type": "markdown",
   "id": "60c48e2a-80e7-4372-a249-fe448cb57a70",
   "metadata": {},
   "source": [
    "The quantity\n",
    "$\\Delta b^2 - 4ac$\n",
    "is called the **discriminant** of the equation and decides the nature of its solutions. The table below shows the various possibilities.\n"
   ]
  },
  {
   "cell_type": "markdown",
   "id": "a43855c7-df39-4d1e-a9a3-c4d9a6d6d3db",
   "metadata": {},
   "source": [
    "|Discriminant|Roots|\n",
    "|:--:|:---|\n",
    "|$\\Delta b^2 - 4ac=0$|A single solution of $\\dfrac{-b}{2a}$|\n",
    "|$\\Delta b^2 - 4ac\\gt0$|Two distinct solutions|\n",
    "|$\\Delta b^2 - 4ac\\lt0$|No real solutions; both are complex.|\n"
   ]
  },
  {
   "cell_type": "markdown",
   "id": "21a3d13f-3dc1-48dd-9944-e8f34a125f78",
   "metadata": {},
   "source": [
    "**Exercise 2**\n",
    "1. What is a Git **repository**?\n",
    "   - A place to store code, files, and each file's revision history.\n",
    "1. Git keeps tracks of ________ in the files in our repository.\n",
    "   - Changes.\n",
    "1. What is a **commit**?\n",
    "   - Specifying what changes to track.\n",
    "1. What is a **push**?\n",
    "   - Sharing changes made on my local machine to the cloud on Github.\n",
    "1. What is a **pull**?\n",
    "   - Saving changes made on cloud to my local machine.\n",
    "1. What is the difference between **GitHub** and **GitHub Desktop**?\n",
    "   - Github is on the cloud, whil Github Desktop is my copy of the repository on my local machine. "
   ]
  },
  {
   "cell_type": "code",
   "execution_count": null,
   "id": "2d500b55-d4b5-443e-a932-c04a10e3eda6",
   "metadata": {},
   "outputs": [],
   "source": []
  }
 ],
 "metadata": {
  "kernelspec": {
   "display_name": "Python 3 (ipykernel)",
   "language": "python",
   "name": "python3"
  },
  "language_info": {
   "codemirror_mode": {
    "name": "ipython",
    "version": 3
   },
   "file_extension": ".py",
   "mimetype": "text/x-python",
   "name": "python",
   "nbconvert_exporter": "python",
   "pygments_lexer": "ipython3",
   "version": "3.11.7"
  },
  "toc": {
   "base_numbering": 1,
   "nav_menu": {},
   "number_sections": true,
   "sideBar": true,
   "skip_h1_title": false,
   "title_cell": "Table of Contents",
   "title_sidebar": "Contents",
   "toc_cell": false,
   "toc_position": {},
   "toc_section_display": true,
   "toc_window_display": false
  },
  "vscode": {
   "interpreter": {
    "hash": "31f2aee4e71d21fbe5cf8b01ff0e069b9275f58929596ceb00d14d90e3e16cd6"
   }
  }
 },
 "nbformat": 4,
 "nbformat_minor": 5
}
