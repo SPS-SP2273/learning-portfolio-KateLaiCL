{
 "cells": [
  {
   "attachments": {},
   "cell_type": "markdown",
   "id": "123456",
   "metadata": {},
   "source": [
    "<div style=\"text-align:left;font-size:2em\"><span style=\"font-weight:bolder;font-size:1.25em\">SP2273 | Learning Portfolio</span><br><br><span style=\"font-weight:bold;color:darkred\">Functions (Good) Exercises</span></div>"
   ]
  },
  {
   "cell_type": "markdown",
   "id": "891ff32f-2eb1-42c3-8b09-6bbb6f5c1350",
   "metadata": {},
   "source": [
    "## Exercise 1"
   ]
  },
  {
   "cell_type": "code",
   "execution_count": 22,
   "id": "41734d64-f313-4443-97a2-38702c0305e9",
   "metadata": {},
   "outputs": [
    {
     "data": {
      "text/plain": [
       "113.0"
      ]
     },
     "execution_count": 22,
     "metadata": {},
     "output_type": "execute_result"
    }
   ],
   "source": [
    "def convert_celsius(temperature_celsius, target_scale):\n",
    "    if target_scale == 'Kelvin':\n",
    "        return temperature_celsius + 273.15\n",
    "    else:\n",
    "        return (temperature_celsius * 9/5) + 32\n",
    "convert_celsius(45, 'Fahrenheit')"
   ]
  },
  {
   "cell_type": "markdown",
   "id": "caf53950-47d0-4cd0-9c0d-6f0af7186232",
   "metadata": {},
   "source": [
    "## Exercise 2"
   ]
  },
  {
   "cell_type": "code",
   "execution_count": 21,
   "id": "49050143-3dd6-4d81-aa66-b0da532e2ca8",
   "metadata": {},
   "outputs": [
    {
     "data": {
      "text/plain": [
       "21.11111111111111"
      ]
     },
     "execution_count": 21,
     "metadata": {},
     "output_type": "execute_result"
    }
   ],
   "source": [
    "def convert_fahrenheit(temperature_fahrenheit, target_scale):\n",
    "    if target_scale == 'Kelvin':\n",
    "        return (temperature_fahrenheit - 32) * 5/9 + 273.15\n",
    "    else:\n",
    "        return (temperature_fahrenheit - 32) * 5/9\n",
    "convert_fahrenheit(70, 'Celcius')"
   ]
  },
  {
   "cell_type": "markdown",
   "id": "5e0bd6a7-7427-444b-b517-5bcc691272bf",
   "metadata": {},
   "source": [
    "## Exercise 3"
   ]
  },
  {
   "cell_type": "code",
   "execution_count": 9,
   "id": "b9b05d76-c1f2-46e1-bf5e-efd432846d0e",
   "metadata": {},
   "outputs": [],
   "source": [
    "def convert_celsius(temperature_celsius, target_scale):\n",
    "    if target_scale == 'Kelvin':\n",
    "        return temperature_celsius + 273.15\n",
    "    if target_scale == 'Fahrenheit':\n",
    "        return (temperature_celsius * 9/5) + 32\n",
    "    if target_scale == 'Celcius':\n",
    "        return temperature_celsius\n",
    "    else:\n",
    "        return 'ERROR'\n",
    "\n",
    "def convert_fahrenheit(temperature_fahrenheit, target_scale):\n",
    "    if target_scale == 'Kelvin':\n",
    "        return (temperature_fahrenheit - 32) * 5/9 + 273.15\n",
    "    if target_scale == 'Celcius':\n",
    "        return (temperature_fahrenheit - 32) * 5/9\n",
    "    if target_scale == 'Fahrenheit':\n",
    "        return temperature_fahrenheit\n",
    "    else:\n",
    "        return 'ERROR'\n",
    "\n",
    "def convert_kelvin(temperature_kelvin, target_scale):\n",
    "    if target_scale == 'Fahrenheit':\n",
    "        return (temperature_kelvin - 273.15) * 9/5 + 32\n",
    "    if target_scale == 'Celcius':\n",
    "        return temperature_kelvin - 273.15\n",
    "    if target_scale == 'Kelvin':\n",
    "        return temperature_kelvin\n",
    "    else:\n",
    "        return 'ERROR'\n",
    "\n",
    "def convert_temperature(temperature, source_scale, target_scale):\n",
    "    if source_scale == 'Celcius':\n",
    "        return convert_celsius(temperature, target_scale)\n",
    "    if source_scale == 'Fahrenheit':\n",
    "        return convert_fahrenheit(temperature, target_scale)\n",
    "    if source_scale == 'Kelvin':\n",
    "        return convert_kelvin(temperature, target_scale)\n",
    "    else: \n",
    "        return 'ERROR'"
   ]
  },
  {
   "cell_type": "code",
   "execution_count": 13,
   "id": "0a498e6b-bfcb-4c95-a5a4-9bec69410993",
   "metadata": {},
   "outputs": [
    {
     "data": {
      "text/plain": [
       "373.15"
      ]
     },
     "execution_count": 13,
     "metadata": {},
     "output_type": "execute_result"
    }
   ],
   "source": [
    "convert_temperature(100, 'Celcius', 'Kelvin')"
   ]
  }
 ],
 "metadata": {
  "kernelspec": {
   "display_name": "Python 3 (ipykernel)",
   "language": "python",
   "name": "python3"
  },
  "language_info": {
   "codemirror_mode": {
    "name": "ipython",
    "version": 3
   },
   "file_extension": ".py",
   "mimetype": "text/x-python",
   "name": "python",
   "nbconvert_exporter": "python",
   "pygments_lexer": "ipython3",
   "version": "3.11.7"
  },
  "toc": {
   "base_numbering": 1,
   "nav_menu": {},
   "number_sections": true,
   "sideBar": true,
   "skip_h1_title": false,
   "title_cell": "Table of Contents",
   "title_sidebar": "Contents",
   "toc_cell": false,
   "toc_position": {},
   "toc_section_display": true,
   "toc_window_display": false
  },
  "vscode": {
   "interpreter": {
    "hash": "31f2aee4e71d21fbe5cf8b01ff0e069b9275f58929596ceb00d14d90e3e16cd6"
   }
  }
 },
 "nbformat": 4,
 "nbformat_minor": 5
}
