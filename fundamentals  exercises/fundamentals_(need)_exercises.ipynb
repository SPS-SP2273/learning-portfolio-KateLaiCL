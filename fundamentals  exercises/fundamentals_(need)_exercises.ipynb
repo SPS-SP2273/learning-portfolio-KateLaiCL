{
 "cells": [
  {
   "attachments": {},
   "cell_type": "markdown",
   "id": "123456",
   "metadata": {},
   "source": [
    "<div style=\"text-align:left;font-size:2em\"><span style=\"font-weight:bolder;font-size:1.25em\">SP2273 | Learning Portfolio</span><br><br><span style=\"font-weight:bold;color:darkred\">Fundamentals (Need) Exercises</span></div>"
   ]
  },
  {
   "cell_type": "markdown",
   "id": "f2a4f769-f958-444a-9118-e2412422c36c",
   "metadata": {},
   "source": [
    "## Exercise 1"
   ]
  },
  {
   "cell_type": "markdown",
   "id": "c22e39f2-cac8-46ff-92a7-aeeecc081fa1",
   "metadata": {},
   "source": [
    "- Functions: parentheses always come after a function and they pass arguments to functions to result in a particular action being undertaken e.g. print()\n",
    "- Comments can be added by using # for code\n",
    "- If can be used to make decisions\n",
    "- Importing packages e.g. numpy, math\n",
    "- *Indentations are important* for ensuring that functions run smoothly – a new indentation is required every time after a condition is being made e.g. for:, if:\n",
    "- *print(age) VS print(\"age\")* --> print(age) requires e.g. \"age = 12\" i.e. a value denoted to the term age, so the number 12 will be printed VS print(\"age\") just prints the word age\n",
    "- *Brackets – for function, math, list of data [], storing in dictionary{}*\n",
    "- *Dot indicates ownership*"
   ]
  },
  {
   "cell_type": "markdown",
   "id": "f9464c39-6469-450f-8bed-12a769b8670e",
   "metadata": {},
   "source": [
    "## Exercise 2"
   ]
  },
  {
   "cell_type": "code",
   "execution_count": 6,
   "id": "e1ee70aa-bcd4-47d9-9167-879630892841",
   "metadata": {},
   "outputs": [],
   "source": [
    "import math"
   ]
  },
  {
   "cell_type": "code",
   "execution_count": 11,
   "id": "a9e68025-3ba9-46d6-9b49-61f84dabb4b8",
   "metadata": {},
   "outputs": [
    {
     "name": "stdout",
     "output_type": "stream",
     "text": [
      "3 4 5.0\n"
     ]
    }
   ],
   "source": [
    "x,y = 3, 4\n",
    "z = math.sqrt(x**2 + y**2)\n",
    "print(x,y,z)"
   ]
  },
  {
   "cell_type": "markdown",
   "id": "fccc4cd0-e6f5-4cb0-82b7-1f5d81da7e81",
   "metadata": {},
   "source": [
    "## Exercise 3"
   ]
  },
  {
   "cell_type": "markdown",
   "id": "9cc69db6-94b9-4364-a39f-00fd6b67b60b",
   "metadata": {},
   "source": [
    "| #\t|Term\t|Description|\n",
    "| :--:| :--: | :--- |\n",
    "|1\t|Function|Executes a specific task|\n",
    "|2\t|Arguments|values such as words, numbers etc. that are required as inputs to functions to be processed into specific outputs as defined by the function|\n",
    "|3\t|Comments|Contains additional information that python ignores and is represented by anything between the # and the end of the line - for our own reference to explain the use of certain lines in the code|\n",
    "|4\t|Indentations|Are important in python e.g. separates 'True' and 'False' blocks, need to indent after conditional statements like for / if|\n",
    "|5\t|Packages|Extra skills given to python e.g. math and numpy package|\t\n",
    "|6\t|.|Indicates ownership based on the context given|\n",
    "|7\t|:|Designates a block of code|\n",
    "|8\t|[]|For 1D list of data|\n",
    "|9\t|[[[]]]|For 3D list of data|\n",
    "|10\t|{}|For storing data in a dictionary|"
   ]
  },
  {
   "cell_type": "markdown",
   "id": "30044660-f24d-455f-b72a-cd1061f0d9bf",
   "metadata": {},
   "source": [
    "## Exercise 4"
   ]
  },
  {
   "cell_type": "code",
   "execution_count": 16,
   "id": "f34f223a-f1a0-4fcd-b133-18d5376e1f6e",
   "metadata": {},
   "outputs": [
    {
     "data": {
      "text/plain": [
       "2.5"
      ]
     },
     "execution_count": 16,
     "metadata": {},
     "output_type": "execute_result"
    }
   ],
   "source": [
    "5/2 #Divides left by right and leaves it to the exact value"
   ]
  },
  {
   "cell_type": "code",
   "execution_count": 13,
   "id": "4f6938f5-13aa-4c6a-9a9c-da872375dc49",
   "metadata": {},
   "outputs": [
    {
     "data": {
      "text/plain": [
       "2"
      ]
     },
     "execution_count": 13,
     "metadata": {},
     "output_type": "execute_result"
    }
   ],
   "source": [
    "5//2"
   ]
  },
  {
   "cell_type": "code",
   "execution_count": 26,
   "id": "e3e5a608-80b0-440c-bee3-ac7f019bf262",
   "metadata": {},
   "outputs": [
    {
     "data": {
      "text/plain": [
       "2"
      ]
     },
     "execution_count": 26,
     "metadata": {},
     "output_type": "execute_result"
    }
   ],
   "source": [
    "5//2 #Divides left by right but rounds the answers down to the nearest integer"
   ]
  },
  {
   "cell_type": "code",
   "execution_count": 37,
   "id": "7db73e2c-80c5-4509-93fd-82d67ed941cc",
   "metadata": {},
   "outputs": [
    {
     "data": {
      "text/plain": [
       "1"
      ]
     },
     "execution_count": 37,
     "metadata": {},
     "output_type": "execute_result"
    }
   ],
   "source": [
    "5%2 #Divides left by right but gives the remainder of the division"
   ]
  }
 ],
 "metadata": {
  "kernelspec": {
   "display_name": "Python 3 (ipykernel)",
   "language": "python",
   "name": "python3"
  },
  "language_info": {
   "codemirror_mode": {
    "name": "ipython",
    "version": 3
   },
   "file_extension": ".py",
   "mimetype": "text/x-python",
   "name": "python",
   "nbconvert_exporter": "python",
   "pygments_lexer": "ipython3",
   "version": "3.11.7"
  },
  "toc": {
   "base_numbering": 1,
   "nav_menu": {},
   "number_sections": true,
   "sideBar": true,
   "skip_h1_title": false,
   "title_cell": "Table of Contents",
   "title_sidebar": "Contents",
   "toc_cell": false,
   "toc_position": {},
   "toc_section_display": true,
   "toc_window_display": false
  },
  "vscode": {
   "interpreter": {
    "hash": "31f2aee4e71d21fbe5cf8b01ff0e069b9275f58929596ceb00d14d90e3e16cd6"
   }
  }
 },
 "nbformat": 4,
 "nbformat_minor": 5
}
