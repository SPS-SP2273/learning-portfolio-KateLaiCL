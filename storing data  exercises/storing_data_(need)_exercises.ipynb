{
 "cells": [
  {
   "attachments": {},
   "cell_type": "markdown",
   "id": "123456",
   "metadata": {},
   "source": [
    "<div style=\"text-align:left;font-size:2em\"><span style=\"font-weight:bolder;font-size:1.25em\">SP2273 | Learning Portfolio</span><br><br><span style=\"font-weight:bold;color:darkred\">Storing Data (Need) Exercises</span></div>"
   ]
  },
  {
   "cell_type": "markdown",
   "id": "ede44cde-b3e6-437e-9f86-62d1117f0c69",
   "metadata": {},
   "source": [
    "## Exercise 1"
   ]
  },
  {
   "cell_type": "markdown",
   "id": "906384a3-1ee6-40a9-b31c-0f7799057347",
   "metadata": {},
   "source": [
    "1. Two similarities between lists and arrays.\n",
    "   - Order matters for the 2 lists / arrays\n",
    "   - Same index used for both to access data\n",
    "1. Two differences between lists and arrays.\n",
    "   - Lists can have different types, while (NumPy) arrays can only have one type\n",
    "   - Lists cannot add numbers, while arrays can\n",
    "1. What is a dictionary?\n",
    "   - Holds keys and values together, and can be accessed by calling upon the key to get the value or vice versa"
   ]
  },
  {
   "cell_type": "markdown",
   "id": "4f0a45df-c41c-49bc-bbff-611b44f28f11",
   "metadata": {},
   "source": [
    "## Exercise 2"
   ]
  },
  {
   "cell_type": "code",
   "execution_count": 2,
   "id": "4d93df7d-3d9d-47c2-aa3f-c6fa7cb589f4",
   "metadata": {},
   "outputs": [
    {
     "name": "stdout",
     "output_type": "stream",
     "text": [
      "a1\n",
      "c3\n",
      "e5\n",
      "g7\n",
      "i9\n"
     ]
    }
   ],
   "source": [
    "py_list = [\"a1\", \"b2\", \"c3\", \"d4\", \"e5\", \"f6\", \"g7\", \"h8\", \"i9\", \"j10\"]\n",
    "print(py_list[0])\n",
    "print(py_list[2])\n",
    "print(py_list[4])\n",
    "print(py_list[6])\n",
    "print(py_list[8])"
   ]
  },
  {
   "cell_type": "markdown",
   "id": "54726fb8-185f-4d7a-8837-54fc0c1ca7d0",
   "metadata": {},
   "source": [
    "## Exercise 3"
   ]
  },
  {
   "cell_type": "code",
   "execution_count": 4,
   "id": "ae77c76e-d024-462c-8667-411e2d7a8058",
   "metadata": {},
   "outputs": [
    {
     "name": "stdout",
     "output_type": "stream",
     "text": [
      "Boron\n",
      "Boron\n"
     ]
    }
   ],
   "source": [
    "elements = ['Hydrogen',\n",
    "            'Helium', 'Lithium',\n",
    "            'Beryllium', 'Boron', 'Carbon',\n",
    "            'Nitrogen', 'Oxygen',\n",
    "            'Fluorine',\n",
    "            'Neon']\n",
    "print(elements[4])\n",
    "print(elements[-6])"
   ]
  },
  {
   "cell_type": "markdown",
   "id": "34692fc8-aac8-42ca-90b5-02f434e1c90d",
   "metadata": {},
   "source": [
    "## Exercise 4"
   ]
  },
  {
   "cell_type": "code",
   "execution_count": 2,
   "id": "a470ceeb-2d35-4c3e-989f-262300125946",
   "metadata": {},
   "outputs": [],
   "source": [
    "import numpy as np"
   ]
  },
  {
   "cell_type": "code",
   "execution_count": 5,
   "id": "58cb2f1e-a833-4867-8910-0a62d9126f5d",
   "metadata": {},
   "outputs": [],
   "source": [
    "numbers=[45, 60, 1, 30, 96, 1, 96, 57, 16, 1,\n",
    "        99, 62, 86, 43, 42, 60, 59, 1, 1, 35,\n",
    "        83, 47, 34, 28, 68, 23, 22, 92, 1, 79,\n",
    "        1, 29, 94, 72, 46, 47, 1, 74, 32, 20,\n",
    "        8, 37, 35, 1, 89, 29, 86, 19, 43, 61]  \n",
    "np_array = np.array(numbers)"
   ]
  },
  {
   "cell_type": "code",
   "execution_count": 6,
   "id": "9a2f096f-2d73-4cf6-9fd2-6c067b509eae",
   "metadata": {},
   "outputs": [
    {
     "data": {
      "text/plain": [
       "array([False, False,  True, False, False,  True, False, False, False,\n",
       "        True, False, False, False, False, False, False, False,  True,\n",
       "        True, False, False, False, False, False, False, False, False,\n",
       "       False,  True, False,  True, False, False, False, False, False,\n",
       "        True, False, False, False, False, False, False,  True, False,\n",
       "       False, False, False, False, False])"
      ]
     },
     "execution_count": 6,
     "metadata": {},
     "output_type": "execute_result"
    }
   ],
   "source": [
    "np_array == 1"
   ]
  },
  {
   "cell_type": "code",
   "execution_count": 14,
   "id": "341c97bd-f433-4c49-b998-86339c0c651b",
   "metadata": {},
   "outputs": [],
   "source": [
    "values=[False, False,  True, False, False,  True, False, False, False,\n",
    "        True, False, False, False, False, False, False, False,  True,\n",
    "        True, False, False, False, False, False, False, False, False,\n",
    "       False,  True, False,  True, False, False, False, False, False,\n",
    "        True, False, False, False, False, False, False,  True, False,\n",
    "       False, False, False, False, False]\n",
    "np_values_array = np.array(values)"
   ]
  },
  {
   "cell_type": "code",
   "execution_count": 16,
   "id": "83d9f5af-5505-4d47-b1bd-f3f05a81e430",
   "metadata": {},
   "outputs": [
    {
     "data": {
      "text/plain": [
       "9"
      ]
     },
     "execution_count": 16,
     "metadata": {},
     "output_type": "execute_result"
    }
   ],
   "source": [
    "np_values_array.sum()"
   ]
  }
 ],
 "metadata": {
  "kernelspec": {
   "display_name": "Python 3 (ipykernel)",
   "language": "python",
   "name": "python3"
  },
  "language_info": {
   "codemirror_mode": {
    "name": "ipython",
    "version": 3
   },
   "file_extension": ".py",
   "mimetype": "text/x-python",
   "name": "python",
   "nbconvert_exporter": "python",
   "pygments_lexer": "ipython3",
   "version": "3.11.7"
  },
  "toc": {
   "base_numbering": 1,
   "nav_menu": {},
   "number_sections": true,
   "sideBar": true,
   "skip_h1_title": false,
   "title_cell": "Table of Contents",
   "title_sidebar": "Contents",
   "toc_cell": false,
   "toc_position": {},
   "toc_section_display": true,
   "toc_window_display": false
  },
  "vscode": {
   "interpreter": {
    "hash": "31f2aee4e71d21fbe5cf8b01ff0e069b9275f58929596ceb00d14d90e3e16cd6"
   }
  }
 },
 "nbformat": 4,
 "nbformat_minor": 5
}
