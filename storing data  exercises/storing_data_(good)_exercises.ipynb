{
 "cells": [
  {
   "attachments": {},
   "cell_type": "markdown",
   "id": "123456",
   "metadata": {},
   "source": [
    "<div style=\"text-align:left;font-size:2em\"><span style=\"font-weight:bolder;font-size:1.25em\">SP2273 | Learning Portfolio</span><br><br><span style=\"font-weight:bold;color:darkred\">Storing Data (Good) Exercises</span></div>"
   ]
  },
  {
   "cell_type": "markdown",
   "id": "87913a47-08bb-4eca-912c-85e666f938ba",
   "metadata": {},
   "source": [
    "## Exercise 1"
   ]
  },
  {
   "cell_type": "markdown",
   "id": "4ccdfe19-88b5-4d62-b449-5572c5ae2435",
   "metadata": {},
   "source": [
    "|Term|Brief Description|\n",
    "|:--|:--:|\n",
    "|Subsetting|Defining specific elements in the list / array to select|\n",
    "|Indexing|Choosing one element|\n",
    "|Slicing|Choosing a range of elements|\n",
    "|Masking|Can be used to define a particular condition for ALL elements in the array, and show whether the each individual element fulfils the condition by stating True or False|"
   ]
  },
  {
   "cell_type": "markdown",
   "id": "073c1c49-87d7-4f85-a170-b9a667b8547d",
   "metadata": {},
   "source": [
    "## Exercise 2"
   ]
  },
  {
   "cell_type": "code",
   "execution_count": 2,
   "id": "ed4215de-b6f5-46ce-83e2-95f075d252d9",
   "metadata": {},
   "outputs": [],
   "source": [
    "import numpy as np\n",
    "np_array_2d = np.array([[1, \"A\"], [3, \"C\"], [2, \"B\"], [4, \"D\"],\n",
    "                        [5, \"E\"], [7, \"G\"], [6, \"F\"], [8, \"H\"],\n",
    "                        [10, \"J\"], [9, \"I\"]])"
   ]
  },
  {
   "cell_type": "code",
   "execution_count": 3,
   "id": "26cba8c4-f0aa-417e-b089-4cbca08b9d46",
   "metadata": {},
   "outputs": [
    {
     "name": "stdout",
     "output_type": "stream",
     "text": [
      "['1' '3' '2' '4' '5' '7' '6' '8' '10' '9']\n"
     ]
    }
   ],
   "source": [
    "print(np_array_2d[:,0])"
   ]
  },
  {
   "cell_type": "code",
   "execution_count": 4,
   "id": "2c5e1f81-b4b5-4803-96fc-a55b0f13397c",
   "metadata": {},
   "outputs": [
    {
     "name": "stdout",
     "output_type": "stream",
     "text": [
      "[ 1  3  2  4  5  7  6  8 10  9]\n"
     ]
    }
   ],
   "source": [
    "print(np_array_2d[:,0].astype(int)) #take note that (int) needs to pass through integers ONLY, cannot do this np_array_2d.astype(int)"
   ]
  },
  {
   "cell_type": "code",
   "execution_count": 5,
   "id": "338e71bf-7480-403c-9f81-7ab904b06917",
   "metadata": {},
   "outputs": [
    {
     "name": "stdout",
     "output_type": "stream",
     "text": [
      "[1 1 0 0 1 1 0 0 0 1]\n"
     ]
    }
   ],
   "source": [
    "print(np_array_2d[:,0].astype(int)%2)"
   ]
  },
  {
   "cell_type": "code",
   "execution_count": 6,
   "id": "5bdf712b-1c77-476e-9438-7947313b9f7a",
   "metadata": {},
   "outputs": [
    {
     "name": "stdout",
     "output_type": "stream",
     "text": [
      "[ True  True False False  True  True False False False  True]\n"
     ]
    }
   ],
   "source": [
    "my_mask = np_array_2d[:,0].astype(int)%2 > 0\n",
    "print(my_mask)"
   ]
  },
  {
   "cell_type": "code",
   "execution_count": 7,
   "id": "7e4884c7-e6aa-43e2-83fb-6fc937860caf",
   "metadata": {},
   "outputs": [
    {
     "name": "stdout",
     "output_type": "stream",
     "text": [
      "[['1' 'A']\n",
      " ['3' 'C']\n",
      " ['5' 'E']\n",
      " ['7' 'G']\n",
      " ['9' 'I']]\n"
     ]
    }
   ],
   "source": [
    "print(np_array_2d[my_mask])"
   ]
  },
  {
   "cell_type": "code",
   "execution_count": 8,
   "id": "5fb69493-6081-4d62-a063-f89c2a6d1a06",
   "metadata": {},
   "outputs": [
    {
     "name": "stdout",
     "output_type": "stream",
     "text": [
      "['A' 'C' 'E' 'G' 'I']\n"
     ]
    }
   ],
   "source": [
    "print(np_array_2d[my_mask][:, 1])"
   ]
  }
 ],
 "metadata": {
  "kernelspec": {
   "display_name": "Python 3 (ipykernel)",
   "language": "python",
   "name": "python3"
  },
  "language_info": {
   "codemirror_mode": {
    "name": "ipython",
    "version": 3
   },
   "file_extension": ".py",
   "mimetype": "text/x-python",
   "name": "python",
   "nbconvert_exporter": "python",
   "pygments_lexer": "ipython3",
   "version": "3.11.7"
  },
  "toc": {
   "base_numbering": 1,
   "nav_menu": {},
   "number_sections": true,
   "sideBar": true,
   "skip_h1_title": false,
   "title_cell": "Table of Contents",
   "title_sidebar": "Contents",
   "toc_cell": false,
   "toc_position": {},
   "toc_section_display": true,
   "toc_window_display": false
  },
  "vscode": {
   "interpreter": {
    "hash": "31f2aee4e71d21fbe5cf8b01ff0e069b9275f58929596ceb00d14d90e3e16cd6"
   }
  }
 },
 "nbformat": 4,
 "nbformat_minor": 5
}
