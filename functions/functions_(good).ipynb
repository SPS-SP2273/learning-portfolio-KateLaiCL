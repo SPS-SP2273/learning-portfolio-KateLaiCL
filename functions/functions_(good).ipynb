{
 "cells": [
  {
   "attachments": {},
   "cell_type": "markdown",
   "id": "123456",
   "metadata": {},
   "source": [
    "<div style=\"text-align:left;font-size:2em\"><span style=\"font-weight:bolder;font-size:1.25em\">SP2273 | Learning Portfolio</span><br><br><span style=\"font-weight:bold;color:darkred\">Functions (Good)</span></div>"
   ]
  },
  {
   "attachments": {},
   "cell_type": "markdown",
   "id": "81e3f9f2",
   "metadata": {},
   "source": [
    "# What to expect in this chapter"
   ]
  },
  {
   "attachments": {},
   "cell_type": "markdown",
   "id": "2da877c8",
   "metadata": {},
   "source": [
    "# 1 Checks, balances, and contingencies"
   ]
  },
  {
   "attachments": {},
   "cell_type": "markdown",
   "id": "037f37f4",
   "metadata": {},
   "source": [
    "## 1.1 assert"
   ]
  },
  {
   "cell_type": "markdown",
   "id": "6201bde9-34b9-4da2-9cc9-ebb957a852d5",
   "metadata": {},
   "source": [
    "General form: assert condition-to-check, message"
   ]
  },
  {
   "cell_type": "code",
   "execution_count": 5,
   "id": "c327be43-3a3f-47e6-8c3d-9f18f9f9600d",
   "metadata": {},
   "outputs": [],
   "source": [
    "x = 10 #will not work when x = -1\n",
    "assert x >= 0, \"x is becoming negative!\""
   ]
  },
  {
   "attachments": {},
   "cell_type": "markdown",
   "id": "f214cc12",
   "metadata": {},
   "source": [
    "## 1.2 try-except"
   ]
  },
  {
   "cell_type": "code",
   "execution_count": 3,
   "id": "585d6408-80f8-43c2-9ea6-d9d846c82b04",
   "metadata": {},
   "outputs": [
    {
     "name": "stdin",
     "output_type": "stream",
     "text": [
      "Give me a number and I will calculate its square. haha\n"
     ]
    },
    {
     "name": "stdout",
     "output_type": "stream",
     "text": [
      "Oh oh! I cannot square haha!\n"
     ]
    }
   ],
   "source": [
    "try:\n",
    "    number=input(\"Give me a number and I will calculate its square.\")\n",
    "    square=int(number)**2\n",
    "    print(f'The square of {number} is {square}!')\n",
    "except:\n",
    "    print(f\"Oh oh! I cannot square {number}!\")"
   ]
  },
  {
   "attachments": {},
   "cell_type": "markdown",
   "id": "d9553e00",
   "metadata": {},
   "source": [
    "## 1.3 A simple suggestion"
   ]
  },
  {
   "cell_type": "markdown",
   "id": "50ed1ff2-f2d5-460d-8b18-663330011a31",
   "metadata": {},
   "source": [
    "Include ‘print()’ statements here and there!"
   ]
  },
  {
   "attachments": {},
   "cell_type": "markdown",
   "id": "943e0099",
   "metadata": {},
   "source": [
    "# 2 Some loose ends"
   ]
  },
  {
   "attachments": {},
   "cell_type": "markdown",
   "id": "90870f96",
   "metadata": {},
   "source": [
    "## 2.1 Positional, keyword and default arguments"
   ]
  },
  {
   "cell_type": "code",
   "execution_count": 4,
   "id": "3df56809-d08c-4464-a10a-5f65b4fcb08a",
   "metadata": {},
   "outputs": [],
   "source": [
    "def side_by_side(a, b, c=42):\n",
    "    return f'{a: 2d}|{b: 2d}|{c: 2d}'"
   ]
  },
  {
   "cell_type": "code",
   "execution_count": 5,
   "id": "937c1848-0f56-4d9a-a43c-c8af132f1dad",
   "metadata": {},
   "outputs": [
    {
     "data": {
      "text/plain": [
       "' 1| 2| 3'"
      ]
     },
     "execution_count": 5,
     "metadata": {},
     "output_type": "execute_result"
    }
   ],
   "source": [
    "side_by_side(1, 2, 3) #POSITIONAL: assign 1, 2, 3 to a, b, c using the positional order of the arguments"
   ]
  },
  {
   "cell_type": "code",
   "execution_count": 6,
   "id": "c004cb89-55e8-44f9-8190-d6318700fc92",
   "metadata": {},
   "outputs": [
    {
     "data": {
      "text/plain": [
       "' 2| 1| 3'"
      ]
     },
     "execution_count": 6,
     "metadata": {},
     "output_type": "execute_result"
    }
   ],
   "source": [
    "side_by_side(c=3, b=1, a=2) #KEYWORD: specify the keyword to assign the values to each of a, b, c; order does NOT matter"
   ]
  },
  {
   "cell_type": "code",
   "execution_count": 7,
   "id": "2c237f46-c816-449a-8571-ee387a3f6449",
   "metadata": {},
   "outputs": [
    {
     "data": {
      "text/plain": [
       "' 1| 2| 42'"
      ]
     },
     "execution_count": 7,
     "metadata": {},
     "output_type": "execute_result"
    }
   ],
   "source": [
    "side_by_side(1, b=2) #DEFAULT: since c is optional (c already = 42), can choose not to specify it"
   ]
  },
  {
   "cell_type": "markdown",
   "id": "e35644cd-878c-409e-a3e8-10d55286cbab",
   "metadata": {},
   "source": [
    "TAKE NOTE: positional arguments must always come FIRST if using a mix of styles"
   ]
  },
  {
   "attachments": {},
   "cell_type": "markdown",
   "id": "44cd3264",
   "metadata": {},
   "source": [
    "## 2.2 Docstrings"
   ]
  },
  {
   "cell_type": "code",
   "execution_count": 8,
   "id": "a60c6395-8304-4827-8e39-023e512f8ea1",
   "metadata": {},
   "outputs": [],
   "source": [
    "def side_by_side(a, b, c=42):\n",
    "    '''\n",
    "    A test function to demonstrate how \n",
    "    positional, keyword and default arguments \n",
    "    work.\n",
    "    '''\n",
    "    return f'{a: 2d}|{b: 2d}|{c: 2d}'"
   ]
  },
  {
   "cell_type": "code",
   "execution_count": 9,
   "id": "f262a96b-812e-42b6-9b9b-94c0bc3cdb89",
   "metadata": {},
   "outputs": [
    {
     "name": "stdout",
     "output_type": "stream",
     "text": [
      "Help on function side_by_side in module __main__:\n",
      "\n",
      "side_by_side(a, b, c=42)\n",
      "    A test function to demonstrate how \n",
      "    positional, keyword and default arguments \n",
      "    work.\n",
      "\n"
     ]
    }
   ],
   "source": [
    "help(side_by_side)"
   ]
  },
  {
   "attachments": {},
   "cell_type": "markdown",
   "id": "7aea1a79",
   "metadata": {},
   "source": [
    "## 2.3 Function are first-class citizens"
   ]
  },
  {
   "cell_type": "markdown",
   "id": "e16ddf53-8a2d-4d2a-922b-329104368640",
   "metadata": {},
   "source": [
    "**Pass a function as an argument to another function!**\n",
    "NOTE: when passing a function as an argument, do not include the parenthesis ()"
   ]
  },
  {
   "cell_type": "code",
   "execution_count": 10,
   "id": "9312273a-5e6c-4c30-ac82-02458a152f18",
   "metadata": {},
   "outputs": [],
   "source": [
    "def my_function(angle, trig_function):\n",
    "        return trig_function(angle)"
   ]
  },
  {
   "cell_type": "code",
   "execution_count": 12,
   "id": "0b1628a5-3b23-40a8-a93d-c1d4ff81c7b5",
   "metadata": {},
   "outputs": [
    {
     "data": {
      "text/plain": [
       "1.0"
      ]
     },
     "execution_count": 12,
     "metadata": {},
     "output_type": "execute_result"
    }
   ],
   "source": [
    "import numpy as np\n",
    "my_function(np.pi/2, np.sin)"
   ]
  },
  {
   "cell_type": "code",
   "execution_count": 13,
   "id": "c727ed99-5880-4825-a8e3-d1052ff0b659",
   "metadata": {},
   "outputs": [
    {
     "data": {
      "text/plain": [
       "6.123233995736766e-17"
      ]
     },
     "execution_count": 13,
     "metadata": {},
     "output_type": "execute_result"
    }
   ],
   "source": [
    "my_function(np.pi/2, np.cos)"
   ]
  },
  {
   "cell_type": "code",
   "execution_count": 14,
   "id": "d9165e5f-11e9-4b23-a425-2d00af478e35",
   "metadata": {},
   "outputs": [
    {
     "data": {
      "text/plain": [
       "-1.0"
      ]
     },
     "execution_count": 14,
     "metadata": {},
     "output_type": "execute_result"
    }
   ],
   "source": [
    "my_function(np.pi/2, lambda x: np.cos(2*x))"
   ]
  },
  {
   "attachments": {},
   "cell_type": "markdown",
   "id": "86dcabde",
   "metadata": {},
   "source": [
    "## 2.4 More about unpacking"
   ]
  },
  {
   "cell_type": "code",
   "execution_count": 15,
   "id": "d1ff3057-49b9-45f5-aa8d-d5e631160de4",
   "metadata": {},
   "outputs": [
    {
     "data": {
      "text/plain": [
       "(1, 2, 3)"
      ]
     },
     "execution_count": 15,
     "metadata": {},
     "output_type": "execute_result"
    }
   ],
   "source": [
    "x, y, z = [1, 2, 3]\n",
    "x, y, z"
   ]
  },
  {
   "cell_type": "code",
   "execution_count": 16,
   "id": "d6e8d37d-eefd-42c9-a971-086c595994cc",
   "metadata": {},
   "outputs": [
    {
     "data": {
      "text/plain": [
       "(1, 2, 3)"
      ]
     },
     "execution_count": 16,
     "metadata": {},
     "output_type": "execute_result"
    }
   ],
   "source": [
    "x, y, z = np.array([1, 2, 3])\n",
    "x, y, z"
   ]
  },
  {
   "cell_type": "code",
   "execution_count": 17,
   "id": "06d76474-fb92-4305-864c-fd1114afad5f",
   "metadata": {},
   "outputs": [
    {
     "data": {
      "text/plain": [
       "(1, [2, 3, 4], 5)"
      ]
     },
     "execution_count": 17,
     "metadata": {},
     "output_type": "execute_result"
    }
   ],
   "source": [
    "x, *y, z = np.array([1, 2, 3, 4, 5])\n",
    "x, y, z"
   ]
  },
  {
   "cell_type": "code",
   "execution_count": 18,
   "id": "0ba413bf-3151-4137-bc7a-5f917c6265a0",
   "metadata": {},
   "outputs": [
    {
     "data": {
      "text/plain": [
       "(1, 5)"
      ]
     },
     "execution_count": 18,
     "metadata": {},
     "output_type": "execute_result"
    }
   ],
   "source": [
    "x, *_, y = [1, 2, 3, 4, 5]\n",
    "x, y"
   ]
  },
  {
   "cell_type": "markdown",
   "id": "97bd3df2-f153-4085-8719-1c3a374f2727",
   "metadata": {},
   "source": [
    "## NEW STUFF"
   ]
  },
  {
   "cell_type": "markdown",
   "id": "7d0e593b-06f4-4420-a768-2ccfbbd3e639",
   "metadata": {},
   "source": [
    "Application of try-assert\n",
    "1. Monitoring for cell viability e.g. assert that cell viability > 90% (try), if not print error message (except)\n",
    "1. Monitoring for culture medium pH e.g. assert that pH must be between 7.2 and 7.4 (try), if not print error message (except)"
   ]
  },
  {
   "cell_type": "markdown",
   "id": "034b2a20-ad7f-4942-81cc-1e5dd4d7ada0",
   "metadata": {},
   "source": [
    "\"*\" unpacks everything that has not been assigned to any variable – i.e. everything else in the list will fall under itself"
   ]
  }
 ],
 "metadata": {
  "kernelspec": {
   "display_name": "Python 3 (ipykernel)",
   "language": "python",
   "name": "python3"
  },
  "language_info": {
   "codemirror_mode": {
    "name": "ipython",
    "version": 3
   },
   "file_extension": ".py",
   "mimetype": "text/x-python",
   "name": "python",
   "nbconvert_exporter": "python",
   "pygments_lexer": "ipython3",
   "version": "3.11.7"
  },
  "toc": {
   "base_numbering": 1,
   "nav_menu": {},
   "number_sections": true,
   "sideBar": true,
   "skip_h1_title": false,
   "title_cell": "Table of Contents",
   "title_sidebar": "Contents",
   "toc_cell": false,
   "toc_position": {},
   "toc_section_display": true,
   "toc_window_display": false
  },
  "vscode": {
   "interpreter": {
    "hash": "31f2aee4e71d21fbe5cf8b01ff0e069b9275f58929596ceb00d14d90e3e16cd6"
   }
  }
 },
 "nbformat": 4,
 "nbformat_minor": 5
}
