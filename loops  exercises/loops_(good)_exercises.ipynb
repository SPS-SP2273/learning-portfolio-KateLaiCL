{
 "cells": [
  {
   "attachments": {},
   "cell_type": "markdown",
   "id": "123456",
   "metadata": {},
   "source": [
    "<div style=\"text-align:left;font-size:2em\"><span style=\"font-weight:bolder;font-size:1.25em\">SP2273 | Learning Portfolio</span><br><br><span style=\"font-weight:bold;color:darkred\">Loops (Good) Exercises</span></div>"
   ]
  },
  {
   "cell_type": "markdown",
   "id": "6bcebd5a-6404-469f-8a99-d58614a8da77",
   "metadata": {},
   "source": [
    "## Exercise 1"
   ]
  },
  {
   "cell_type": "code",
   "execution_count": 5,
   "id": "48954f2e-3190-43cb-ad59-deb84428c08c",
   "metadata": {},
   "outputs": [
    {
     "name": "stdout",
     "output_type": "stream",
     "text": [
      "1\n",
      "9\n",
      "25\n",
      "49\n",
      "81\n"
     ]
    }
   ],
   "source": [
    "for number in range(10):\n",
    "    if number % 2 == 0:\n",
    "        continue \n",
    "    square = number**2\n",
    "    print(square)"
   ]
  },
  {
   "cell_type": "markdown",
   "id": "48d10646-4eed-4d2e-b4b2-9bf6733e51bb",
   "metadata": {},
   "source": [
    "## Exercise 2"
   ]
  },
  {
   "cell_type": "code",
   "execution_count": 9,
   "id": "60911ab5-f67c-4d12-b4ee-727f78e1630f",
   "metadata": {},
   "outputs": [
    {
     "data": {
      "text/plain": [
       "[1, 9, 25, 49, 81]"
      ]
     },
     "execution_count": 9,
     "metadata": {},
     "output_type": "execute_result"
    }
   ],
   "source": [
    "[number**2 for number in range(10) if number % 2 != 0]"
   ]
  },
  {
   "cell_type": "markdown",
   "id": "4c69e944-a9ef-432a-bf0d-0933613f0f8e",
   "metadata": {},
   "source": [
    "## Exercise 3"
   ]
  },
  {
   "cell_type": "code",
   "execution_count": 13,
   "id": "8c493f9e-6118-4a91-94a1-cc5a4ed46f7e",
   "metadata": {},
   "outputs": [
    {
     "name": "stdout",
     "output_type": "stream",
     "text": [
      "394 ns ± 1.81 ns per loop (mean ± std. dev. of 7 runs, 1,000,000 loops each)\n"
     ]
    }
   ],
   "source": [
    "%%timeit\n",
    "for number in range(10):\n",
    "    if number % 2 == 0:\n",
    "        continue \n",
    "    square = number**2"
   ]
  },
  {
   "cell_type": "code",
   "execution_count": 12,
   "id": "dc7e9776-de20-44dc-8031-ffaf767021f1",
   "metadata": {},
   "outputs": [
    {
     "name": "stdout",
     "output_type": "stream",
     "text": [
      "487 ns ± 1.74 ns per loop (mean ± std. dev. of 7 runs, 1,000,000 loops each)\n"
     ]
    }
   ],
   "source": [
    "%%timeit\n",
    "[number**2 for number in range(10) if number % 2 != 0]"
   ]
  },
  {
   "cell_type": "markdown",
   "id": "3ce6fc8b-7f00-4744-a5f9-bab1d614a5cf",
   "metadata": {},
   "source": [
    "The first method is faster!"
   ]
  },
  {
   "cell_type": "markdown",
   "id": "8262d06f-74bd-4da9-81fa-843720ce679c",
   "metadata": {},
   "source": [
    "## Exercise 4"
   ]
  },
  {
   "cell_type": "code",
   "execution_count": 6,
   "id": "6131a147-709d-497f-ac62-460889811b06",
   "metadata": {},
   "outputs": [
    {
     "name": "stdout",
     "output_type": "stream",
     "text": [
      "Year1: 95.0\n",
      "Year2: 90.25\n",
      "Year3: 85.73749999999998\n",
      "Year4: 81.45062499999999\n",
      "Year5: 77.37809374999998\n",
      "Year6: 73.50918906249998\n",
      "Year7: 69.83372960937497\n",
      "Year8: 66.34204312890623\n",
      "Year9: 63.02494097246091\n",
      "Year10: 59.87369392383787\n",
      "Year11: 56.880009227645964\n",
      "Year12: 54.03600876626366\n",
      "Year13: 51.33420832795048\n"
     ]
    }
   ],
   "source": [
    "for year in range(1,100):\n",
    "    number = 100*0.95**year\n",
    "    if number < 50:\n",
    "        break\n",
    "    print(f'Year{year}{\":\"} {number}')"
   ]
  },
  {
   "cell_type": "markdown",
   "id": "9e328658-15f9-4409-91cd-7aec30f3a6be",
   "metadata": {},
   "source": [
    "## Exercise 5"
   ]
  },
  {
   "cell_type": "code",
   "execution_count": 1,
   "id": "c38fd497-83a5-4d46-a4eb-a19de5e54517",
   "metadata": {},
   "outputs": [
    {
     "data": {
      "text/plain": [
       "array([369.55, 371.14, 373.28, 375.8 , 377.52, 379.8 , 381.9 , 383.79,\n",
       "       385.6 , 387.43, 389.9 , 391.65, 393.85, 396.52, 398.65, 400.83,\n",
       "       404.24, 406.55, 408.52, 411.44])"
      ]
     },
     "execution_count": 1,
     "metadata": {},
     "output_type": "execute_result"
    }
   ],
   "source": [
    "co2_data = [\n",
    "    (2000, 369.55), (2001, 371.14), (2002, 373.28), \n",
    "    (2003, 375.80), (2004, 377.52), (2005, 379.80), \n",
    "    (2006, 381.90), (2007, 383.79), (2008, 385.60), \n",
    "    (2009, 387.43), (2010, 389.90), (2011, 391.65), \n",
    "    (2012, 393.85), (2013, 396.52), (2014, 398.65),\n",
    "    (2015, 400.83), (2016, 404.24), (2017, 406.55), \n",
    "    (2018, 408.52), (2019, 411.44), (2020, 414.24)\n",
    "]\n",
    "import numpy as np\n",
    "np_co2_data = np.array(co2_data)\n",
    "np_co2_data[:-1,1]"
   ]
  },
  {
   "cell_type": "code",
   "execution_count": 2,
   "id": "110bc953-5605-4717-a977-ee909d119a15",
   "metadata": {},
   "outputs": [
    {
     "data": {
      "text/plain": [
       "array([371.14, 373.28, 375.8 , 377.52, 379.8 , 381.9 , 383.79, 385.6 ,\n",
       "       387.43, 389.9 , 391.65, 393.85, 396.52, 398.65, 400.83, 404.24,\n",
       "       406.55, 408.52, 411.44, 414.24])"
      ]
     },
     "execution_count": 2,
     "metadata": {},
     "output_type": "execute_result"
    }
   ],
   "source": [
    "np_co2_data[1:,1]"
   ]
  },
  {
   "cell_type": "code",
   "execution_count": 11,
   "id": "15e02f97-f841-477d-ba70-fa7c3d5dae8a",
   "metadata": {},
   "outputs": [
    {
     "data": {
      "text/plain": [
       "array([1.59, 2.14, 2.52, 1.72, 2.28, 2.1 , 1.89, 1.81, 1.83, 2.47, 1.75,\n",
       "       2.2 , 2.67, 2.13, 2.18, 3.41, 2.31, 1.97, 2.92, 2.8 ])"
      ]
     },
     "execution_count": 11,
     "metadata": {},
     "output_type": "execute_result"
    }
   ],
   "source": [
    "np_co2_data[1:,1] - np_co2_data[:-1,1]"
   ]
  },
  {
   "cell_type": "code",
   "execution_count": 12,
   "id": "27531def-52cb-4164-8ef8-98d45b9ac28f",
   "metadata": {},
   "outputs": [],
   "source": [
    "np_co2_change = np_co2_data[1:,1] - np_co2_data[:-1,1]"
   ]
  },
  {
   "cell_type": "code",
   "execution_count": 4,
   "id": "7c331964-f5ce-4a62-ac80-b14a8e9d6cec",
   "metadata": {},
   "outputs": [
    {
     "data": {
      "text/plain": [
       "array([[2016.  ,  404.24]])"
      ]
     },
     "execution_count": 4,
     "metadata": {},
     "output_type": "execute_result"
    }
   ],
   "source": [
    "np_co2_data_2 = np_co2_data[1:]\n",
    "np_co2_data_2[np_co2_data[1:,1] - np_co2_data[:-1,1] >3]"
   ]
  },
  {
   "cell_type": "code",
   "execution_count": 21,
   "id": "817c65c7-b6bc-41fa-bd38-a072879e724c",
   "metadata": {},
   "outputs": [
    {
     "name": "stdout",
     "output_type": "stream",
     "text": [
      "2016 3.410000000000025\n"
     ]
    }
   ],
   "source": [
    "print(np_co2_data[16,0].astype(int), np_co2_change[-5])"
   ]
  }
 ],
 "metadata": {
  "kernelspec": {
   "display_name": "Python 3 (ipykernel)",
   "language": "python",
   "name": "python3"
  },
  "language_info": {
   "codemirror_mode": {
    "name": "ipython",
    "version": 3
   },
   "file_extension": ".py",
   "mimetype": "text/x-python",
   "name": "python",
   "nbconvert_exporter": "python",
   "pygments_lexer": "ipython3",
   "version": "3.11.7"
  },
  "toc": {
   "base_numbering": 1,
   "nav_menu": {},
   "number_sections": true,
   "sideBar": true,
   "skip_h1_title": false,
   "title_cell": "Table of Contents",
   "title_sidebar": "Contents",
   "toc_cell": false,
   "toc_position": {},
   "toc_section_display": true,
   "toc_window_display": false
  },
  "vscode": {
   "interpreter": {
    "hash": "31f2aee4e71d21fbe5cf8b01ff0e069b9275f58929596ceb00d14d90e3e16cd6"
   }
  }
 },
 "nbformat": 4,
 "nbformat_minor": 5
}
