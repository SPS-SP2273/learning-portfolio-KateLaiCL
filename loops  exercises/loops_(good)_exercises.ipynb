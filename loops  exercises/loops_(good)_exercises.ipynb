{
 "cells": [
  {
   "attachments": {},
   "cell_type": "markdown",
   "id": "123456",
   "metadata": {},
   "source": [
    "<div style=\"text-align:left;font-size:2em\"><span style=\"font-weight:bolder;font-size:1.25em\">SP2273 | Learning Portfolio</span><br><br><span style=\"font-weight:bold;color:darkred\">Loops (Good) Exercises</span></div>"
   ]
  },
  {
   "cell_type": "markdown",
   "id": "6bcebd5a-6404-469f-8a99-d58614a8da77",
   "metadata": {},
   "source": [
    "## Exercise 1"
   ]
  },
  {
   "cell_type": "code",
   "execution_count": 13,
   "id": "118bdd02-dbcb-4cdb-a233-91b904265c64",
   "metadata": {},
   "outputs": [
    {
     "name": "stdout",
     "output_type": "stream",
     "text": [
      "square of 1 is 1\n",
      "square of 3 is 9\n",
      "square of 5 is 25\n",
      "square of 7 is 49\n",
      "square of 9 is 81\n"
     ]
    }
   ],
   "source": [
    "squares_of_odd = []\n",
    "for number in range(10):\n",
    "    squares_of_odd = number ** 2\n",
    "    if number % 2 == 0:\n",
    "        continue\n",
    "    print(f'square of {number} is {squares_of_odd}')"
   ]
  },
  {
   "cell_type": "markdown",
   "id": "48d10646-4eed-4d2e-b4b2-9bf6733e51bb",
   "metadata": {},
   "source": [
    "## Exercise 2"
   ]
  },
  {
   "cell_type": "code",
   "execution_count": 9,
   "id": "60911ab5-f67c-4d12-b4ee-727f78e1630f",
   "metadata": {},
   "outputs": [
    {
     "data": {
      "text/plain": [
       "[1, 9, 25, 49, 81]"
      ]
     },
     "execution_count": 9,
     "metadata": {},
     "output_type": "execute_result"
    }
   ],
   "source": [
    "[number**2 for number in range(10) if number % 2 != 0]"
   ]
  },
  {
   "cell_type": "markdown",
   "id": "4c69e944-a9ef-432a-bf0d-0933613f0f8e",
   "metadata": {},
   "source": [
    "## Exercise 3"
   ]
  },
  {
   "cell_type": "code",
   "execution_count": 13,
   "id": "8c493f9e-6118-4a91-94a1-cc5a4ed46f7e",
   "metadata": {},
   "outputs": [
    {
     "name": "stdout",
     "output_type": "stream",
     "text": [
      "394 ns ± 1.81 ns per loop (mean ± std. dev. of 7 runs, 1,000,000 loops each)\n"
     ]
    }
   ],
   "source": [
    "%%timeit\n",
    "for number in range(10):\n",
    "    if number % 2 == 0:\n",
    "        continue \n",
    "    square = number**2"
   ]
  },
  {
   "cell_type": "code",
   "execution_count": 12,
   "id": "dc7e9776-de20-44dc-8031-ffaf767021f1",
   "metadata": {},
   "outputs": [
    {
     "name": "stdout",
     "output_type": "stream",
     "text": [
      "487 ns ± 1.74 ns per loop (mean ± std. dev. of 7 runs, 1,000,000 loops each)\n"
     ]
    }
   ],
   "source": [
    "%%timeit\n",
    "[number**2 for number in range(10) if number % 2 != 0]"
   ]
  },
  {
   "cell_type": "markdown",
   "id": "3ce6fc8b-7f00-4744-a5f9-bab1d614a5cf",
   "metadata": {},
   "source": [
    "The first method is faster!"
   ]
  },
  {
   "cell_type": "markdown",
   "id": "8262d06f-74bd-4da9-81fa-843720ce679c",
   "metadata": {},
   "source": [
    "## Exercise 4"
   ]
  },
  {
   "cell_type": "code",
   "execution_count": 14,
   "id": "0cf8cc84-1b19-41ad-921c-9406cb52ff2a",
   "metadata": {},
   "outputs": [
    {
     "name": "stdout",
     "output_type": "stream",
     "text": [
      "It takes 14 years for the sample to reduce to half its original amount\n"
     ]
    }
   ],
   "source": [
    "initial_amount = 100\n",
    "years = 0\n",
    "amount = initial_amount\n",
    "while amount >= initial_amount/2:\n",
    "    amount = amount*0.95\n",
    "    years += 1\n",
    "print('It takes', years, 'years for the sample to reduce to half its original amount')"
   ]
  },
  {
   "cell_type": "markdown",
   "id": "9e328658-15f9-4409-91cd-7aec30f3a6be",
   "metadata": {},
   "source": [
    "## Exercise 5"
   ]
  },
  {
   "cell_type": "code",
   "execution_count": 17,
   "id": "baa7c3a1-504c-415c-a3b7-e91181e7c398",
   "metadata": {},
   "outputs": [
    {
     "data": {
      "text/plain": [
       "21"
      ]
     },
     "execution_count": 17,
     "metadata": {},
     "output_type": "execute_result"
    }
   ],
   "source": [
    "len(co2_data)"
   ]
  },
  {
   "cell_type": "code",
   "execution_count": 29,
   "id": "fbdc6d2a-ddf0-4945-bbaf-a21ef0e2cb72",
   "metadata": {},
   "outputs": [
    {
     "name": "stdout",
     "output_type": "stream",
     "text": [
      "In 2016, increase of co2 is 3.41 compared to previous year.\n"
     ]
    }
   ],
   "source": [
    "import numpy as np\n",
    "co2_data = [\n",
    "    (2000, 369.55), (2001, 371.14), (2002, 373.28), \n",
    "    (2003, 375.80), (2004, 377.52), (2005, 379.80), \n",
    "    (2006, 381.90), (2007, 383.79), (2008, 385.60), \n",
    "    (2009, 387.43), (2010, 389.90), (2011, 391.65), \n",
    "    (2012, 393.85), (2013, 396.52), (2014, 398.65),\n",
    "    (2015, 400.83), (2016, 404.24), (2017, 406.55), \n",
    "    (2018, 408.52), (2019, 411.44), (2020, 414.24)\n",
    "]\n",
    "\n",
    "for index in range(1,21):\n",
    "    current_year, current_co2 = co2_data[index]\n",
    "    previous_year, previous_co2 = co2_data[index-1]\n",
    "    change = current_co2 - previous_co2\n",
    "    if change >=3:\n",
    "        print(f'In {current_year}, increase of co2 is {change:.2f} compared to previous year.')"
   ]
  }
 ],
 "metadata": {
  "kernelspec": {
   "display_name": "Python 3 (ipykernel)",
   "language": "python",
   "name": "python3"
  },
  "language_info": {
   "codemirror_mode": {
    "name": "ipython",
    "version": 3
   },
   "file_extension": ".py",
   "mimetype": "text/x-python",
   "name": "python",
   "nbconvert_exporter": "python",
   "pygments_lexer": "ipython3",
   "version": "3.11.7"
  },
  "toc": {
   "base_numbering": 1,
   "nav_menu": {},
   "number_sections": true,
   "sideBar": true,
   "skip_h1_title": false,
   "title_cell": "Table of Contents",
   "title_sidebar": "Contents",
   "toc_cell": false,
   "toc_position": {},
   "toc_section_display": true,
   "toc_window_display": false
  },
  "vscode": {
   "interpreter": {
    "hash": "31f2aee4e71d21fbe5cf8b01ff0e069b9275f58929596ceb00d14d90e3e16cd6"
   }
  }
 },
 "nbformat": 4,
 "nbformat_minor": 5
}
