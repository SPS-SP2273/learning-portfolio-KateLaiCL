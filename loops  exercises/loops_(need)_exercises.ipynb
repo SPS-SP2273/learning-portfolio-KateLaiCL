{
 "cells": [
  {
   "attachments": {},
   "cell_type": "markdown",
   "id": "123456",
   "metadata": {},
   "source": [
    "<div style=\"text-align:left;font-size:2em\"><span style=\"font-weight:bolder;font-size:1.25em\">SP2273 | Learning Portfolio</span><br><br><span style=\"font-weight:bold;color:darkred\">Loops (Need) Exercises</span></div>"
   ]
  },
  {
   "cell_type": "markdown",
   "id": "f849b8fa-09c0-4689-bef4-5d57babd39f6",
   "metadata": {},
   "source": [
    "## Exercise 1"
   ]
  },
  {
   "cell_type": "code",
   "execution_count": 1,
   "id": "86175192-7308-484b-96eb-11aa5efa91f0",
   "metadata": {},
   "outputs": [],
   "source": [
    "temperatures_celsius = [\n",
    "    0, 5, 10, 15, 20, 25,\n",
    "    30, 35, 40, 45, 50\n",
    "]"
   ]
  },
  {
   "cell_type": "code",
   "execution_count": 6,
   "id": "d87918f6-11a6-4f72-8e7d-6ec1667c246d",
   "metadata": {},
   "outputs": [],
   "source": [
    "import numpy as np\n",
    "np_array = np.array(temperatures_celsius)"
   ]
  },
  {
   "cell_type": "code",
   "execution_count": 11,
   "id": "03cea9ac-1b11-4233-b99f-377ae3c367ff",
   "metadata": {},
   "outputs": [
    {
     "data": {
      "text/plain": [
       "array([ 32.,  41.,  50.,  59.,  68.,  77.,  86.,  95., 104., 113., 122.])"
      ]
     },
     "execution_count": 11,
     "metadata": {},
     "output_type": "execute_result"
    }
   ],
   "source": [
    "temperatures_fahrenheit = np_array_temperatures_fahrenheit*1.8+32\n",
    "temperatures_fahrenheit"
   ]
  },
  {
   "cell_type": "code",
   "execution_count": 12,
   "id": "2c610fb4-84b5-46e7-8f0a-92558959fc28",
   "metadata": {},
   "outputs": [
    {
     "name": "stdout",
     "output_type": "stream",
     "text": [
      "0,32.0\n",
      "5,41.0\n",
      "10,50.0\n",
      "15,59.0\n",
      "20,68.0\n",
      "25,77.0\n",
      "30,86.0\n",
      "35,95.0\n",
      "40,104.0\n",
      "45,113.0\n",
      "50,122.0\n"
     ]
    }
   ],
   "source": [
    "for index, celsius in enumerate(temperatures_celsius):\n",
    "    fahrenheit = temperatures_fahrenheit[index]\n",
    "    print(f'{celsius},{fahrenheit}')"
   ]
  },
  {
   "cell_type": "markdown",
   "id": "17a8375f-ee73-4812-8b7c-8a191e21958a",
   "metadata": {},
   "source": [
    "## Exercise 2"
   ]
  },
  {
   "cell_type": "code",
   "execution_count": 23,
   "id": "a42c964c-fb82-477e-9d86-1ad1704f8b1a",
   "metadata": {},
   "outputs": [
    {
     "name": "stdout",
     "output_type": "stream",
     "text": [
      "1   :\t1\t2\t3\t4\t5\t\n",
      "\n",
      "2   :\t2\t4\t6\t8\t10\t\n",
      "\n",
      "3   :\t3\t6\t9\t12\t15\t\n",
      "\n",
      "4   :\t4\t8\t12\t16\t20\t\n",
      "\n",
      "5   :\t5\t10\t15\t20\t25\t\n",
      "\n"
     ]
    }
   ],
   "source": [
    "for number_row in range(1, 6):\n",
    "    print(f'{number_row}   {\":\"}', end='\\t')\n",
    "    for number_column in range(1, 6):\n",
    "        print(f'{number_row*number_column}', end='\\t')\n",
    "    print('\\n')"
   ]
  }
 ],
 "metadata": {
  "kernelspec": {
   "display_name": "Python 3 (ipykernel)",
   "language": "python",
   "name": "python3"
  },
  "language_info": {
   "codemirror_mode": {
    "name": "ipython",
    "version": 3
   },
   "file_extension": ".py",
   "mimetype": "text/x-python",
   "name": "python",
   "nbconvert_exporter": "python",
   "pygments_lexer": "ipython3",
   "version": "3.11.7"
  },
  "toc": {
   "base_numbering": 1,
   "nav_menu": {},
   "number_sections": true,
   "sideBar": true,
   "skip_h1_title": false,
   "title_cell": "Table of Contents",
   "title_sidebar": "Contents",
   "toc_cell": false,
   "toc_position": {},
   "toc_section_display": true,
   "toc_window_display": false
  },
  "vscode": {
   "interpreter": {
    "hash": "31f2aee4e71d21fbe5cf8b01ff0e069b9275f58929596ceb00d14d90e3e16cd6"
   }
  }
 },
 "nbformat": 4,
 "nbformat_minor": 5
}
